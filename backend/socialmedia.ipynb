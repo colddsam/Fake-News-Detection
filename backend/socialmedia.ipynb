{
 "cells": [
  {
   "cell_type": "code",
   "execution_count": 1,
   "id": "ff87d7a1",
   "metadata": {},
   "outputs": [],
   "source": [
    "import requests\n",
    "from bs4 import BeautifulSoup\n",
    "import os"
   ]
  },
  {
   "cell_type": "markdown",
   "id": "47696747",
   "metadata": {},
   "source": [
    "## Instagram"
   ]
  },
  {
   "cell_type": "code",
   "execution_count": 2,
   "id": "36bfb30b",
   "metadata": {},
   "outputs": [],
   "source": [
    "url=\"https://www.instagram.com/p/DJUOG9cMmDQ/?utm_source=ig_web_copy_link\""
   ]
  },
  {
   "cell_type": "code",
   "execution_count": 3,
   "id": "1bc0a491",
   "metadata": {},
   "outputs": [],
   "source": [
    "response = requests.get(url, timeout=10)"
   ]
  },
  {
   "cell_type": "code",
   "execution_count": 4,
   "id": "b2433df8",
   "metadata": {},
   "outputs": [],
   "source": [
    "soup = BeautifulSoup(response.text, \"html.parser\")"
   ]
  },
  {
   "cell_type": "code",
   "execution_count": 5,
   "id": "834d86c2",
   "metadata": {},
   "outputs": [],
   "source": [
    "title = soup.title.string if soup.title else \"\""
   ]
  },
  {
   "cell_type": "code",
   "execution_count": 6,
   "id": "61cca3df",
   "metadata": {},
   "outputs": [],
   "source": [
    "meta_desc = soup.find(\"meta\", attrs={\"name\": \"description\"})"
   ]
  },
  {
   "cell_type": "code",
   "execution_count": 9,
   "id": "7cbd052e",
   "metadata": {},
   "outputs": [],
   "source": [
    "claim = meta_desc[\"content\"] if meta_desc else \"\""
   ]
  },
  {
   "cell_type": "markdown",
   "id": "6a6308d0",
   "metadata": {},
   "source": [
    "# Facebook"
   ]
  },
  {
   "cell_type": "code",
   "execution_count": 10,
   "id": "76d85b49",
   "metadata": {},
   "outputs": [],
   "source": [
    "url=\"https://www.facebook.com/share/p/1La6wMH9Eq/\""
   ]
  },
  {
   "cell_type": "code",
   "execution_count": 11,
   "id": "d39a4619",
   "metadata": {},
   "outputs": [],
   "source": [
    "response = requests.get(url, timeout=10)"
   ]
  },
  {
   "cell_type": "code",
   "execution_count": 13,
   "id": "0d9c5c0a",
   "metadata": {},
   "outputs": [],
   "source": [
    "soup = BeautifulSoup(response.text, \"html.parser\")"
   ]
  },
  {
   "cell_type": "code",
   "execution_count": 15,
   "id": "194a104a",
   "metadata": {},
   "outputs": [],
   "source": [
    "title = soup.title.string if soup.title else \"\""
   ]
  },
  {
   "cell_type": "code",
   "execution_count": 17,
   "id": "8b37a088",
   "metadata": {},
   "outputs": [],
   "source": [
    "meta_desc = soup.find(\"meta\", attrs={\"name\": \"description\"})"
   ]
  },
  {
   "cell_type": "code",
   "execution_count": 18,
   "id": "c945dc41",
   "metadata": {},
   "outputs": [],
   "source": [
    "claim = meta_desc[\"content\"] if meta_desc else \"\""
   ]
  },
  {
   "cell_type": "code",
   "execution_count": null,
   "id": "f30d2a64",
   "metadata": {},
   "outputs": [],
   "source": [
    "image_tag = soup.find(\"meta\", property=\"og:image\") or soup.find(\"img\")\n"
   ]
  },
  {
   "cell_type": "code",
   "execution_count": null,
   "id": "ef8ec1e3",
   "metadata": {},
   "outputs": [
    {
     "data": {
      "text/plain": [
       "'https://scontent.fccu27-2.fna.fbcdn.net/v/t39.30808-6/495600501_1110229771141872_5070607800621737608_n.jpg?cstp=mx1080x1350&ctp=p600x600&_nc_cat=1&ccb=1-7&_nc_sid=cae128&_nc_ohc=GGwfbhbRPjQQ7kNvwHIm98d&_nc_oc=AdlN-Ev93_i-RAhdTAtuVs3QnaBseR7_R1faZLMzyC2qcHIA5XWcoGROWd2B3hKrImRWKVbsIkSojLpkXgDbibhh&_nc_zt=23&_nc_ht=scontent.fccu27-2.fna&_nc_gid=3H-VWjzOLm6wVKjyQ3uMjQ&oh=00_AfJ1WlIQSexL9kNSB2l1NwVh5IzdJMNJuAKeafwiLxIS8A&oe=6823D238'"
      ]
     },
     "execution_count": 21,
     "metadata": {},
     "output_type": "execute_result"
    }
   ],
   "source": [
    "image_url = image_tag[\"content\"] if image_tag and \"content\" in image_tag.attrs else (\n",
    "    image_tag[\"src\"] if image_tag and \"src\" in image_tag.attrs else None\n",
    ")"
   ]
  },
  {
   "cell_type": "markdown",
   "id": "557898c9",
   "metadata": {},
   "source": [
    "# Twitter"
   ]
  },
  {
   "cell_type": "code",
   "execution_count": 22,
   "id": "8e2fa89d",
   "metadata": {},
   "outputs": [],
   "source": [
    "url=\"https://x.com/adgpi/status/1920667234416177654\""
   ]
  },
  {
   "cell_type": "code",
   "execution_count": 23,
   "id": "581bee52",
   "metadata": {},
   "outputs": [],
   "source": [
    "response = requests.get(url, timeout=10)"
   ]
  },
  {
   "cell_type": "code",
   "execution_count": 24,
   "id": "4633a214",
   "metadata": {},
   "outputs": [],
   "source": [
    "soup = BeautifulSoup(response.text, \"html.parser\")"
   ]
  },
  {
   "cell_type": "code",
   "execution_count": 25,
   "id": "b3641d7e",
   "metadata": {},
   "outputs": [],
   "source": [
    "title = soup.title.string if soup.title else \"\""
   ]
  },
  {
   "cell_type": "code",
   "execution_count": 26,
   "id": "eaa5bcf3",
   "metadata": {},
   "outputs": [],
   "source": [
    "meta_desc = soup.find(\"meta\", attrs={\"name\": \"description\"})"
   ]
  },
  {
   "cell_type": "code",
   "execution_count": 27,
   "id": "cccee11e",
   "metadata": {},
   "outputs": [],
   "source": [
    "claim = meta_desc[\"content\"] if meta_desc else \"\""
   ]
  },
  {
   "cell_type": "markdown",
   "id": "68d08880",
   "metadata": {},
   "source": [
    "# LINKS"
   ]
  },
  {
   "cell_type": "code",
   "execution_count": 2,
   "id": "14c08cef",
   "metadata": {},
   "outputs": [],
   "source": [
    "url=\"https://www.ndtv.com/india-news/operation-sindoor-india-mobilises-the-terriers-what-is-territorial-army-ndtv-explains-8371488\""
   ]
  },
  {
   "cell_type": "code",
   "execution_count": 3,
   "id": "07dfff76",
   "metadata": {},
   "outputs": [],
   "source": [
    "response = requests.get(url, timeout=10)"
   ]
  },
  {
   "cell_type": "code",
   "execution_count": 4,
   "id": "9bce7283",
   "metadata": {},
   "outputs": [],
   "source": [
    "soup = BeautifulSoup(response.text, \"html.parser\")"
   ]
  },
  {
   "cell_type": "code",
   "execution_count": 5,
   "id": "2472cc15",
   "metadata": {},
   "outputs": [],
   "source": [
    "title = soup.title.string if soup.title else \"\""
   ]
  },
  {
   "cell_type": "code",
   "execution_count": 6,
   "id": "d3bef0f8",
   "metadata": {},
   "outputs": [],
   "source": [
    "meta_desc = soup.find(\"meta\", attrs={\"name\": \"description\"})"
   ]
  },
  {
   "cell_type": "code",
   "execution_count": 7,
   "id": "51a9d89e",
   "metadata": {},
   "outputs": [],
   "source": [
    "claim = meta_desc[\"content\"] if meta_desc else \"\""
   ]
  },
  {
   "cell_type": "code",
   "execution_count": 8,
   "id": "815568c6",
   "metadata": {},
   "outputs": [],
   "source": [
    "image_tag = soup.find(\"meta\", property=\"og:image\") or soup.find(\"img\")"
   ]
  },
  {
   "cell_type": "code",
   "execution_count": 9,
   "id": "7eca3b67",
   "metadata": {},
   "outputs": [],
   "source": [
    "image_url = image_tag[\"content\"] if image_tag and \"content\" in image_tag.attrs else (\n",
    "    image_tag[\"src\"] if image_tag and \"src\" in image_tag.attrs else None\n",
    ")"
   ]
  },
  {
   "cell_type": "code",
   "execution_count": 10,
   "id": "7d58e2f0",
   "metadata": {},
   "outputs": [],
   "source": [
    "article_body = \"\"\n",
    "content_div = soup.find(\"div\", class_=\"story__content\") or soup.find(\"div\", class_=\"sp-cn ins_storybody\")"
   ]
  },
  {
   "cell_type": "code",
   "execution_count": 1,
   "id": "ce4fae9c",
   "metadata": {},
   "outputs": [
    {
     "ename": "NameError",
     "evalue": "name 'image_url' is not defined",
     "output_type": "error",
     "traceback": [
      "\u001b[1;31m---------------------------------------------------------------------------\u001b[0m",
      "\u001b[1;31mNameError\u001b[0m                                 Traceback (most recent call last)",
      "Cell \u001b[1;32mIn[1], line 1\u001b[0m\n\u001b[1;32m----> 1\u001b[0m \u001b[43mimage_url\u001b[49m\n",
      "\u001b[1;31mNameError\u001b[0m: name 'image_url' is not defined"
     ]
    }
   ],
   "source": [
    "image_url"
   ]
  }
 ],
 "metadata": {
  "kernelspec": {
   "display_name": "Python 3",
   "language": "python",
   "name": "python3"
  },
  "language_info": {
   "codemirror_mode": {
    "name": "ipython",
    "version": 3
   },
   "file_extension": ".py",
   "mimetype": "text/x-python",
   "name": "python",
   "nbconvert_exporter": "python",
   "pygments_lexer": "ipython3",
   "version": "3.13.3"
  }
 },
 "nbformat": 4,
 "nbformat_minor": 5
}
